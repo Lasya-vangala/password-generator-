{
 "cells": [
  {
   "cell_type": "code",
   "execution_count": 7,
   "id": "0fd752c4-c563-4ec3-bdb1-278681037062",
   "metadata": {},
   "outputs": [
    {
     "name": "stdin",
     "output_type": "stream",
     "text": [
      "Enter the length of the password: 6\n",
      "weather to include numbers ?(yes/no): no\n",
      "weather to include special characters?(yes/no): no\n",
      "weather to include ascii_values?(yes/no): no\n"
     ]
    },
    {
     "name": "stdout",
     "output_type": "stream",
     "text": [
      "Error: You must select at least one character type!\n"
     ]
    },
    {
     "name": "stdin",
     "output_type": "stream",
     "text": [
      "Enter the length of the password: 4\n",
      "weather to include numbers ?(yes/no): no\n",
      "weather to include special characters?(yes/no): yes\n",
      "weather to include ascii_values?(yes/no): yes\n"
     ]
    },
    {
     "name": "stdout",
     "output_type": "stream",
     "text": [
      "generated password for you is r(S%\n"
     ]
    }
   ],
   "source": [
    "##### import random\n",
    "import string\n",
    "    \n",
    "def password_generator():\n",
    "    while True:\n",
    "        \n",
    "        characters=\"\"\n",
    "        length=int(input(\"Enter the length of the password:\"))\n",
    "        digits=input(\"weather to include numbers ?(yes/no):\").strip().lower()==\"yes\"\n",
    "        punctuation=input(\"weather to include special characters?(yes/no):\").strip().lower()==\"yes\"\n",
    "        ascii_letters=input(\"weather to include ascii_values?(yes/no):\").strip().lower()==\"yes\"\n",
    "\n",
    "        \n",
    "        if ascii_letters:\n",
    "            characters += string.ascii_letters\n",
    "\n",
    "        if digits:\n",
    "            characters +=string.digits\n",
    "            \n",
    "        if punctuation:\n",
    "            characters +=string.punctuation\n",
    "\n",
    "        \n",
    "        if characters:\n",
    "            break\n",
    "        else:\n",
    "            print(\"Error: You must select at least one character type!\")\n",
    "\n",
    "\n",
    "    password=\"\".join(random.choice(characters) for _ in range(length))\n",
    "    \n",
    "    print(f\"generated password for you is {password}\")\n",
    "    \n",
    "password_generator()\n",
    "   "
   ]
  },
  {
   "cell_type": "code",
   "execution_count": null,
   "id": "64f87507-f981-4936-b183-d7f113a70151",
   "metadata": {},
   "outputs": [],
   "source": []
  }
 ],
 "metadata": {
  "kernelspec": {
   "display_name": "Python 3 (ipykernel)",
   "language": "python",
   "name": "python3"
  },
  "language_info": {
   "codemirror_mode": {
    "name": "ipython",
    "version": 3
   },
   "file_extension": ".py",
   "mimetype": "text/x-python",
   "name": "python",
   "nbconvert_exporter": "python",
   "pygments_lexer": "ipython3",
   "version": "3.12.7"
  }
 },
 "nbformat": 4,
 "nbformat_minor": 5
}
